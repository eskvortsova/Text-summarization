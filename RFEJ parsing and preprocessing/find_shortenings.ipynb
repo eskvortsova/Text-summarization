{
 "cells": [
  {
   "cell_type": "code",
   "execution_count": 3,
   "metadata": {
    "collapsed": true
   },
   "outputs": [],
   "source": [
    "import numpy as np\n",
    "import glob\n",
    "import os\n",
    "from sklearn.feature_extraction.text import CountVectorizer"
   ]
  },
  {
   "cell_type": "code",
   "execution_count": 31,
   "metadata": {
    "collapsed": true
   },
   "outputs": [],
   "source": [
    "PATH = os.path.abspath('..\\\\rfej_parser\\\\articles\\\\') + '\\\\'"
   ]
  },
  {
   "cell_type": "code",
   "execution_count": 44,
   "metadata": {
    "collapsed": true
   },
   "outputs": [],
   "source": [
    "def read_txt(f: str) -> str:\n",
    "    \"\"\"Read text from .txt file. Return text in str.\"\"\"\n",
    "    with open(f, 'r', encoding='utf-8') as file:\n",
    "        data = file.read()\n",
    "        return data\n",
    "        \n",
    "def by_size(words: list, size: int) -> list:\n",
    "    \"\"\"Get list of words and return list of words less or equal 'size'.\"\"\"\n",
    "    return [word for word in words if len(word) <= size]"
   ]
  },
  {
   "cell_type": "code",
   "execution_count": 45,
   "metadata": {
    "collapsed": true,
    "scrolled": true
   },
   "outputs": [],
   "source": [
    "def article_shortenings(file_type: str) -> list:\n",
    "    \"\"\"Create list[list0, list1] where list1 is word and list1 is nb of times it used in texts.\"\"\"\n",
    "    vectorizer = CountVectorizer(max_features=10000, token_pattern=r'\\b[^\\s,\\n\\r\\t\\d][а-яё.]*\\b')\n",
    "    allTxt = []\n",
    "    for file in glob.iglob(PATH + file_type):\n",
    "        t = read_txt(file)\n",
    "        allTxt.append(t)\n",
    "    X = vectorizer.fit_transform(allTxt) # подсчитываем\n",
    "    matrix_freq = np.asarray(X.sum(axis=0)).ravel()\n",
    "    final_matrix = np.array([np.array(vectorizer.get_feature_names()), matrix_freq])\n",
    "    return final_matrix"
   ]
  },
  {
   "cell_type": "code",
   "execution_count": null,
   "metadata": {
    "collapsed": true
   },
   "outputs": [],
   "source": [
    "m = article_shortenings('*_a.txt')"
   ]
  },
  {
   "cell_type": "code",
   "execution_count": 1,
   "metadata": {
    "collapsed": true
   },
   "outputs": [],
   "source": [
    "# show words with MAX length 5\n",
    "\n",
    "# for e in by_size(m[0], 5):\n",
    "#     print(e)"
   ]
  }
 ],
 "metadata": {
  "kernelspec": {
   "display_name": "Python 3",
   "language": "python",
   "name": "python3"
  },
  "language_info": {
   "codemirror_mode": {
    "name": "ipython",
    "version": 3
   },
   "file_extension": ".py",
   "mimetype": "text/x-python",
   "name": "python",
   "nbconvert_exporter": "python",
   "pygments_lexer": "ipython3",
   "version": "3.6.1"
  }
 },
 "nbformat": 4,
 "nbformat_minor": 2
}
