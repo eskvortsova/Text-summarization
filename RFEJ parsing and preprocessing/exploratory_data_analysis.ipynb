{
 "cells": [
  {
   "cell_type": "markdown",
   "metadata": {},
   "source": [
    "## Sentence tokenization"
   ]
  },
  {
   "cell_type": "code",
   "execution_count": 1,
   "metadata": {
    "collapsed": true
   },
   "outputs": [],
   "source": [
    "import pandas as pd\n",
    "import re\n",
    "from ipynb.fs.full.sentence_collection import sentence_collection\n",
    "import docx\n",
    "from docx.api import Document\n",
    "import glob\n",
    "import os\n",
    "from ipynb.fs.full.find_shortenings import read_txt"
   ]
  },
  {
   "cell_type": "code",
   "execution_count": 2,
   "metadata": {
    "collapsed": true
   },
   "outputs": [],
   "source": [
    "PATH = os.path.abspath('..\\\\rfej_parser\\\\articles\\\\') + '\\\\'"
   ]
  },
  {
   "cell_type": "code",
   "execution_count": 3,
   "metadata": {
    "collapsed": true
   },
   "outputs": [],
   "source": [
    "# sort file names\n",
    "def atoi(text):\n",
    "    return int(text) if text.isdigit() else text\n",
    "\n",
    "def natural_keys(text):\n",
    "    return [ atoi(c) for c in re.split(r'(\\d+)', text) ]"
   ]
  },
  {
   "cell_type": "code",
   "execution_count": 4,
   "metadata": {
    "collapsed": true
   },
   "outputs": [],
   "source": [
    "def count_txt_sentance_len(reg: str) -> list:\n",
    "    \"\"\"Get sizes of all textes that it finds in PATH with `reg` expression. Returns list of nbrs.\"\"\"\n",
    "    t = ''\n",
    "    lengths = []\n",
    "    files = [f for f in glob.glob(PATH + '*.txt') if re.findall(reg, f)]\n",
    "    files.sort(key=natural_keys)\n",
    "    for f in files:\n",
    "        t = [read_txt(f)]\n",
    "        s = sentence_collection(t)\n",
    "        lengths.append(len(s))\n",
    "    return lengths"
   ]
  },
  {
   "cell_type": "code",
   "execution_count": 5,
   "metadata": {
    "collapsed": true
   },
   "outputs": [],
   "source": [
    "# supress 'WARNING:root:Something went wrong while tokenizing'\n",
    "import logging\n",
    "\n",
    "logging.root.level = logging.ERROR\n",
    "ann_lengths = count_txt_sentance_len(r'\\d.txt')  # annotations lengths in sentances\n",
    "artcls_lengths = count_txt_sentance_len(r'_a.txt')  # articles lengths in sentances\n",
    "logging.root.level = logging.WARNING"
   ]
  },
  {
   "cell_type": "code",
   "execution_count": 13,
   "metadata": {
    "scrolled": true
   },
   "outputs": [
    {
     "data": {
      "image/png": "[encoded data removed]",
      "text/plain": [
       "<matplotlib.figure.Figure at 0x230c30dfa20>"
      ]
     },
     "metadata": {},
     "output_type": "display_data"
    }
   ],
   "source": [
    "# Аннотации попадающие в диапазон трех среднеквадратических отклонений: 1-9 (предложений)\n",
    "\n",
    "import matplotlib.mlab as mlab\n",
    "import matplotlib.pyplot as plt\n",
    "import numpy as np\n",
    "\n",
    "x = ann_lengths\n",
    "n, bins, patches = plt.hist(x, bins=max(x), range=(1, max(x) + 1), normed=1, facecolor='red', alpha=0.5)\n",
    "plt.axvline(np.mean(x), color='k', linestyle='--')\n",
    "plt.axvline(np.mean(x) + np.std(x) * 3, color='r', linestyle='-.')\n",
    "plt.axvline(np.mean(x) - np.std(x) * 3, color='r', linestyle='-.')\n",
    "\n",
    "\n",
    "plt.legend([r'$\\mu$', r'$\\mu$ ± 3 * std dev'])\n",
    "plt.xlabel('Length (sent.)')\n",
    "plt.ylabel('%')\n",
    "plt.title('Annotation distribution histogram:')\n",
    "plt.grid(True)\n",
    "plt.show()"
   ]
  },
  {
   "cell_type": "code",
   "execution_count": 70,
   "metadata": {},
   "outputs": [
    {
     "name": "stdout",
     "output_type": "stream",
     "text": [
      "0.0978426174088\n"
     ]
    }
   ],
   "source": [
    "# Коэффициент корреляции Пирсона меньше порога (0.2), значит линейная корреляцийя отсутствует.\n",
    "\n",
    "from scipy.stats.stats import pearsonr\n",
    "cf = pearsonr(ann_lengths, artcls_lengths)\n",
    "print(cf[0])"
   ]
  },
  {
   "cell_type": "code",
   "execution_count": 89,
   "metadata": {},
   "outputs": [
    {
     "name": "stdout",
     "output_type": "stream",
     "text": [
      "KstestResult(statistic=0.17380253126783041, pvalue=0.0)\n"
     ]
    }
   ],
   "source": [
    "# Анализ нормальности распределения данных\n",
    "# Коэфф. значимости (pvalue) < 0.2, по критерию Колмогорова.\n",
    "# Гипотеза о нормальности распределения данных отклюняется.\n",
    "# Распределение является ассиметричным, тк коеэфф. ассиметрии < 1, и кэефф. эксцесса < 1. \n",
    "\n",
    "from scipy.stats import skew, kurtosis, kstest\n",
    "import math\n",
    "\n",
    "# N = len(x)\n",
    "# stndrt_skew_error = math.sqrt((6 * N * (N - 1)) / ((N - 2) * (N + 1) * (N + 3)))\n",
    "# stndrt_kurtosis_error = math.sqrt((4 * (N**2 - 1) * stndrt_skew_error**2) / ((N - 3) * (N + 5)))\n",
    "# print(stndrt_skew_error, stndrt_kurtosis_error)\n",
    "# # Проверка\n",
    "# print((stndrt_skew_error / skew(x)) >= 3, (stndrt_kurtosis_error / kurtosis(x)) >= 3)\n",
    "print(kstest(np.array(x), 'norm', args=(np.mean(x), np.std(x))))"
   ]
  },
  {
   "cell_type": "code",
   "execution_count": 66,
   "metadata": {
    "scrolled": true
   },
   "outputs": [
    {
     "data": {
      "image/png": "[encoded data removed]",
      "text/plain": [
       "<matplotlib.figure.Figure at 0x12e5a228550>"
      ]
     },
     "metadata": {},
     "output_type": "display_data"
    }
   ],
   "source": [
    "# Диаграмма размаха\n",
    "plt.boxplot(x)\n",
    "plt.show()"
   ]
  },
  {
   "cell_type": "code",
   "execution_count": null,
   "metadata": {
    "collapsed": true
   },
   "outputs": [],
   "source": [
    "# BOXPLOT analysis \n",
    "TODO"
   ]
  },
  {
   "cell_type": "markdown",
   "metadata": {},
   "source": [
    "___"
   ]
  },
  {
   "cell_type": "markdown",
   "metadata": {},
   "source": [
    "## Part of speech"
   ]
  },
  {
   "cell_type": "code",
   "execution_count": 7,
   "metadata": {
    "collapsed": true
   },
   "outputs": [],
   "source": [
    "import pymorphy2\n",
    "morph = pymorphy2.MorphAnalyzer()"
   ]
  },
  {
   "cell_type": "code",
   "execution_count": 82,
   "metadata": {
    "collapsed": true
   },
   "outputs": [],
   "source": [
    "from natasha import (\n",
    "    Segmenter,\n",
    "    MorphVocab,\n",
    "    NewsEmbedding,\n",
    "    NewsMorphTagger,\n",
    "    NewsNERTagger,\n",
    "    \n",
    "    PER,\n",
    "    NamesExtractor,\n",
    "    DatesExtractor,\n",
    "    MoneyExtractor,\n",
    "    AddrExtractor,\n",
    "    \n",
    "    Doc\n",
    ")\n",
    "\n",
    "segmenter = Segmenter()\n",
    "morph_vocab = MorphVocab()\n",
    "emb = NewsEmbedding()\n",
    "morph_tagger = NewsMorphTagger(emb)\n",
    "ner_tagger = NewsNERTagger(emb)\n",
    "\n",
    "# names_extractor = NamesExtractor(morph_vocab)\n",
    "\n",
    "dates_extractor = DatesExtractor(morph_vocab)\n",
    "money_extractor = MoneyExtractor(morph_vocab)\n",
    "addr_extractor = AddrExtractor(morph_vocab)"
   ]
  },
  {
   "cell_type": "code",
   "execution_count": 83,
   "metadata": {
    "collapsed": true
   },
   "outputs": [],
   "source": [
    "def split_words_in_ann() -> list:\n",
    "    \"\"\"Get all words from annotations. Return it in one list.\n",
    "    \"\"\"\n",
    "    files = [f for f in glob.glob(PATH + '*.txt') if re.findall(r'\\d.txt', f)]\n",
    "    annotations = []\n",
    "    for annotation in files:\n",
    "        text = read_txt(annotation)\n",
    "        annotations.append(text)\n",
    "    annotations = ' '.join(annotations)\n",
    "    doc = Doc(annotations)\n",
    "    doc.segment(segmenter)\n",
    "    words = [word.text for word in doc.tokens]\n",
    "    return words, doc"
   ]
  },
  {
   "cell_type": "code",
   "execution_count": 84,
   "metadata": {
    "collapsed": true
   },
   "outputs": [],
   "source": [
    "def count_words(words: list) -> list:\n",
    "    \"\"\"For each word get POS and add it in list.\n",
    "    \"\"\" \n",
    "    pos = []\n",
    "    for wd in words:\n",
    "        p = morph.parse(wd)[0]\n",
    "        pos.append(p.tag.POS)\n",
    "    return pos"
   ]
  },
  {
   "cell_type": "code",
   "execution_count": 100,
   "metadata": {},
   "outputs": [
    {
     "data": {
      "text/plain": [
       "'неожиданный'"
      ]
     },
     "execution_count": 100,
     "metadata": {},
     "output_type": "execute_result"
    }
   ],
   "source": [
    "morph.parse('неожиданная')[0].normal_form"
   ]
  },
  {
   "cell_type": "code",
   "execution_count": 85,
   "metadata": {
    "collapsed": true
   },
   "outputs": [],
   "source": [
    "wrds, doc = split_words_in_ann()\n",
    "pos_statistic = count_words(wrds)"
   ]
  },
  {
   "cell_type": "code",
   "execution_count": 86,
   "metadata": {
    "scrolled": true
   },
   "outputs": [
    {
     "data": {
      "image/png": "[encoded data removed]",
      "text/plain": [
       "<matplotlib.figure.Figure at 0x12e59c9e198>"
      ]
     },
     "metadata": {},
     "output_type": "display_data"
    }
   ],
   "source": [
    "# Гистограмма по частям речи\n",
    "# Cлужебных частей речи мало в аннотациях. Мало глаголов и прилагательных, но много существительных \n",
    "\n",
    "import pandas as pd\n",
    "from collections import Counter\n",
    "import matplotlib.pyplot as plt\n",
    "\n",
    "words_counts = Counter(pos_statistic)\n",
    "df = pd.DataFrame.from_dict(words_counts, orient='index')\n",
    "df[0] = 100 * df[0] / df[0].sum()\n",
    "df.plot(\n",
    "    kind='bar', figsize=(12, 5), title='POS distribution histogram:', \n",
    "    rot=0.5, legend=None\n",
    ")\n",
    "plt.ylabel(\"%\")\n",
    "plt.show()"
   ]
  },
  {
   "cell_type": "markdown",
   "metadata": {},
   "source": [
    "___"
   ]
  },
  {
   "cell_type": "markdown",
   "metadata": {},
   "source": [
    "## NER"
   ]
  },
  {
   "cell_type": "code",
   "execution_count": 87,
   "metadata": {},
   "outputs": [
    {
     "data": {
      "image/png": "[encoded data removed]",
      "text/plain": [
       "<matplotlib.figure.Figure at 0x12e0cb121d0>"
      ]
     },
     "metadata": {},
     "output_type": "display_data"
    }
   ],
   "source": [
    "# Извлечение именованных сущностей (NER)\n",
    "# Преобладают локации (города, страны и т.д.) и организации/группы.\n",
    "\n",
    "# Extract standart named entities\n",
    "doc.tag_ner(ner_tagger)\n",
    "LOC_ORG_PER = [word.type for word in doc.spans]\n",
    "# Additional entities \n",
    "# !! Числовые значения вычислены заранее на Colab\n",
    "addr = ['ADDR'] * 947  # ['ADDR' for word in addr_extractor(doc.txt)]\n",
    "money = ['MONEY'] * 13  # ['MONEY' for word in addr_extractor(doc.txt)]\n",
    "dates = ['DATES'] * 295  # ['DATES' for word in addr_extractor(doc.txt)]\n",
    "# Hist\n",
    "words_counts = Counter(LOC_ORG_PER + addr + dates + money)\n",
    "df = pd.DataFrame.from_dict(words_counts, orient='index')\n",
    "df[0] = 100 * df[0] / df[0].sum()\n",
    "df.plot(\n",
    "    kind='bar', figsize=(12, 5), title='NER distribution histogram:', \n",
    "    rot=0.5, legend=None\n",
    ")\n",
    "plt.ylabel(\"%\")\n",
    "plt.show()"
   ]
  }
 ],
 "metadata": {
  "kernelspec": {
   "display_name": "Python 3",
   "language": "python",
   "name": "python3"
  },
  "language_info": {
   "codemirror_mode": {
    "name": "ipython",
    "version": 3
   },
   "file_extension": ".py",
   "mimetype": "text/x-python",
   "name": "python",
   "nbconvert_exporter": "python",
   "pygments_lexer": "ipython3",
   "version": "3.6.1"
  }
 },
 "nbformat": 4,
 "nbformat_minor": 2
}
