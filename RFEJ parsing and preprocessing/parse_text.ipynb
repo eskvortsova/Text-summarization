{
 "cells": [
  {
   "cell_type": "code",
   "execution_count": 376,
   "metadata": {
    "collapsed": true,
    "scrolled": true
   },
   "outputs": [],
   "source": [
    "import os\n",
    "from langdetect import detect\n",
    "import glob\n",
    "from docx.api import Document\n",
    "import re"
   ]
  },
  {
   "cell_type": "code",
   "execution_count": null,
   "metadata": {
    "collapsed": true
   },
   "outputs": [],
   "source": [
    "ARTICLES_ROOT = os.path.abspath('..\\\\rfej_parser\\\\articles\\\\') + '\\\\'"
   ]
  },
  {
   "cell_type": "code",
   "execution_count": 377,
   "metadata": {
    "collapsed": true
   },
   "outputs": [],
   "source": [
    "def get_article_text(\n",
    "    document: Document, separator: str = \".\", paragraphs_span: tuple = None\n",
    ") -> str:\n",
    "    text = []\n",
    "    paragraphs = document.paragraphs\n",
    "    if paragraphs_span:\n",
    "        paragraphs = paragraphs[paragraphs_span[0]:paragraphs_span[1]]\n",
    "    for t in paragraphs:\n",
    "        text.append(t.text)\n",
    "    return separator.join(text)"
   ]
  },
  {
   "cell_type": "code",
   "execution_count": 378,
   "metadata": {
    "collapsed": true
   },
   "outputs": [],
   "source": [
    "def save_as_txt(text: list, file_name: str):\n",
    "    f = open(ARTICLES_ROOT + '{}_a.txt'.format(file_name), \"w\", encoding='utf-8') \n",
    "    f.write(text) \n",
    "    f.close()\n",
    "\n",
    "def parse_article():\n",
    "    for file in glob.iglob(ARTICLES_ROOT + '*.docx'):\n",
    "        __init__() missing 1 required positional argument: \n",
    "        start, end = 0, len(d.paragraphs)\n",
    "        text = []\n",
    "        if detect(get_article_text(d)) != 'ru':\n",
    "            os.remove(file)\n",
    "            continue\n",
    "        for i, p in enumerate(d.paragraphs):\n",
    "            if re.match(\"([kк]eyword[s]*|ключевые слова|key word[s]*):\", p.text.lstrip().lower()):\n",
    "                start = i + 1\n",
    "            if p.text.strip() in {'ПРИМЕЧАНИЯ:', 'БИБЛИОГРАФИЯ:'}:\n",
    "                end = i\n",
    "                break\n",
    "            text.append(p.text)\n",
    "        txt = ''.join(text[start:end])\n",
    "        save_as_txt(txt, file.split('\\\\')[-1][0:-5])"
   ]
  },
  {
   "cell_type": "code",
   "execution_count": 379,
   "metadata": {
    "collapsed": true,
    "scrolled": false
   },
   "outputs": [],
   "source": [
    "parse_article()"
   ]
  }
 ],
 "metadata": {
  "kernelspec": {
   "display_name": "Python 3",
   "language": "python",
   "name": "python3"
  },
  "language_info": {
   "codemirror_mode": {
    "name": "ipython",
    "version": 3
   },
   "file_extension": ".py",
   "mimetype": "text/x-python",
   "name": "python",
   "nbconvert_exporter": "python",
   "pygments_lexer": "ipython3",
   "version": "3.6.1"
  }
 },
 "nbformat": 4,
 "nbformat_minor": 2
}
