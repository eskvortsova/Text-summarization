{
 "cells": [
  {
   "cell_type": "code",
   "execution_count": 3,
   "metadata": {
    "collapsed": true
   },
   "outputs": [],
   "source": [
    "import pandas as pd\n",
    "import re"
   ]
  },
  {
   "cell_type": "code",
   "execution_count": 4,
   "metadata": {
    "collapsed": true
   },
   "outputs": [],
   "source": [
    "df = pd.read_csv('full_abstractive.csv')"
   ]
  },
  {
   "cell_type": "code",
   "execution_count": 7,
   "metadata": {
    "collapsed": true
   },
   "outputs": [],
   "source": [
    "import sys\n",
    "sys.path.insert(0, '/home/skvortsova-ev/bert_cls/bert_environment/lib/python3.7/site-packages/')"
   ]
  },
  {
   "cell_type": "code",
   "execution_count": 8,
   "metadata": {
    "collapsed": true
   },
   "outputs": [],
   "source": [
    "import argparse\n",
    "import os\n",
    "\n",
    "from allennlp.data.vocabulary import Vocabulary\n",
    "from allennlp.common.params import Params\n",
    "from allennlp.data.dataset_readers.dataset_reader import DatasetReader\n",
    "\n",
    "from summarus.readers import act_reader"
   ]
  },
  {
   "cell_type": "code",
   "execution_count": 9,
   "metadata": {
    "collapsed": true
   },
   "outputs": [],
   "source": [
    "train_path, vocabulary_path, config_path = 'full_abstractive.csv', '/home/skvortsova-ev/notebooks/summarus/pgn_papers/vocabulary/', '/home/skvortsova-ev/notebooks/summarus/tests/configs/papers_pgn.json'"
   ]
  },
  {
   "cell_type": "code",
   "execution_count": 10,
   "metadata": {
    "scrolled": true
   },
   "outputs": [
    {
     "data": {
      "application/vnd.jupyter.widget-view+json": {
       "model_id": "0e6328c1445340cab691bf6995b8515a",
       "version_major": 2,
       "version_minor": 0
      },
      "text/plain": [
       "  0%|          | 0/1 [00:00<?, ?it/s]"
      ]
     },
     "metadata": {},
     "output_type": "display_data"
    },
    {
     "name": "stderr",
     "output_type": "stream",
     "text": [
      "WARNING:root:vocabulary serialization directory /home/skvortsova-ev/notebooks/summarus/pgn_acts/vocabulary/ is not empty\n"
     ]
    }
   ],
   "source": [
    "assert os.path.isfile(train_path) or os.path.isdir(train_path), \"Train dataset file does not exist\"\n",
    "assert os.path.isfile(config_path), \"Config file does not exist\"\n",
    "\n",
    "params = Params.from_file(config_path)\n",
    "\n",
    "reader_params = params.pop(\"reader\", default=Params({}))\n",
    "vocabulary_params = params.pop(\"vocabulary\", default=Params({}))\n",
    "\n",
    "reader = DatasetReader.from_params(reader_params)\n",
    "dataset = reader.read(train_path)\n",
    "\n",
    "vocabulary = Vocabulary.from_params(vocabulary_params, instances=dataset)\n",
    "vocabulary.save_to_files(vocabulary_path)"
   ]
  }
 ],
 "metadata": {
  "kernelspec": {
   "display_name": "Python 3",
   "language": "python",
   "name": "python3"
  },
  "language_info": {
   "codemirror_mode": {
    "name": "ipython",
    "version": 3
   },
   "file_extension": ".py",
   "mimetype": "text/x-python",
   "name": "python",
   "nbconvert_exporter": "python",
   "pygments_lexer": "ipython3",
   "version": "3.8.5"
  }
 },
 "nbformat": 4,
 "nbformat_minor": 2
}
