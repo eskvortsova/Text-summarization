{
 "cells": [
  {
   "cell_type": "code",
   "execution_count": 2,
   "metadata": {
    "collapsed": true
   },
   "outputs": [],
   "source": [
    "import win32com.client\n",
    "import os"
   ]
  },
  {
   "cell_type": "code",
   "execution_count": 7,
   "metadata": {
    "collapsed": true
   },
   "outputs": [],
   "source": [
    "class Converter:\n",
    "    def __init__(self):\n",
    "        self.word = win32com.client.Dispatch(\"Word.Application\")\n",
    "        self.word.visible = 0\n",
    "\n",
    "    def __del__(self):\n",
    "        self.word.Quit()\n",
    "\n",
    "    def pdf_to_docx(self, file_name: str) -> str:\n",
    "        in_file = os.path.abspath('./articles/' + file_name + '.pdf')\n",
    "        wb = self.word.Documents.Open(in_file)\n",
    "        out_file = os.path.abspath('./articles/' + file_name + \".docx\")\n",
    "        wb.SaveAs2(out_file, FileFormat=16)\n",
    "        wb.Close()\n",
    "        return in_file"
   ]
  }
 ],
 "metadata": {
  "kernelspec": {
   "display_name": "Python 3",
   "language": "python",
   "name": "python3"
  },
  "language_info": {
   "codemirror_mode": {
    "name": "ipython",
    "version": 3
   },
   "file_extension": ".py",
   "mimetype": "text/x-python",
   "name": "python",
   "nbconvert_exporter": "python",
   "pygments_lexer": "ipython3",
   "version": "3.6.1"
  }
 },
 "nbformat": 4,
 "nbformat_minor": 2
}
